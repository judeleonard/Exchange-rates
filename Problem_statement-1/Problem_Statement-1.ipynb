{
 "cells": [
  {
   "cell_type": "markdown",
   "id": "ac46b026",
   "metadata": {},
   "source": [
    "<!--TABLE OF CONTENTS-->\n",
    "# Table of Contents:\n",
    "- [Load the Data and Prepare the Data](#Load-the-data)\n",
    "- [Transform the Data](#Run-Data-Transformation)\n",
    "- [Analyze the Data](#Analyze)\n",
    "- [Export the Analyzed Result](#Export-Output)\n",
    "- [Summary](#End)"
   ]
  },
  {
   "cell_type": "markdown",
   "id": "7410cd03",
   "metadata": {},
   "source": [
    "## Load the Data and Prepare the Data"
   ]
  },
  {
   "cell_type": "code",
   "execution_count": 79,
   "id": "5987e522",
   "metadata": {},
   "outputs": [],
   "source": [
    "import pandas as pd\n",
    "from datetime import datetime"
   ]
  },
  {
   "cell_type": "markdown",
   "id": "613f7169",
   "metadata": {},
   "source": [
    "#### Loan table"
   ]
  },
  {
   "cell_type": "code",
   "execution_count": 103,
   "id": "b9d6c252",
   "metadata": {},
   "outputs": [
    {
     "data": {
      "text/html": [
       "<div>\n",
       "<style scoped>\n",
       "    .dataframe tbody tr th:only-of-type {\n",
       "        vertical-align: middle;\n",
       "    }\n",
       "\n",
       "    .dataframe tbody tr th {\n",
       "        vertical-align: top;\n",
       "    }\n",
       "\n",
       "    .dataframe thead th {\n",
       "        text-align: right;\n",
       "    }\n",
       "</style>\n",
       "<table border=\"1\" class=\"dataframe\">\n",
       "  <thead>\n",
       "    <tr style=\"text-align: right;\">\n",
       "      <th></th>\n",
       "      <th>Borrower_id</th>\n",
       "      <th>loan_id</th>\n",
       "      <th>Date_of_release</th>\n",
       "      <th>Term</th>\n",
       "      <th>InterestRate</th>\n",
       "      <th>LoanAmount</th>\n",
       "      <th>Downpayment</th>\n",
       "      <th>payment_frequency</th>\n",
       "      <th>maturity_date</th>\n",
       "    </tr>\n",
       "  </thead>\n",
       "  <tbody>\n",
       "    <tr>\n",
       "      <th>0</th>\n",
       "      <td>123fd35</td>\n",
       "      <td>32u09wekjbfje</td>\n",
       "      <td>2021-01-27</td>\n",
       "      <td>12</td>\n",
       "      <td>1.05</td>\n",
       "      <td>1209484</td>\n",
       "      <td>124993</td>\n",
       "      <td>1.007903e+05</td>\n",
       "      <td>2022-01-31</td>\n",
       "    </tr>\n",
       "    <tr>\n",
       "      <th>1</th>\n",
       "      <td>123fd36</td>\n",
       "      <td>9190i0-nbfb</td>\n",
       "      <td>2021-02-01</td>\n",
       "      <td>24</td>\n",
       "      <td>1.05</td>\n",
       "      <td>12394031</td>\n",
       "      <td>1000000</td>\n",
       "      <td>5.164180e+05</td>\n",
       "      <td>NaT</td>\n",
       "    </tr>\n",
       "    <tr>\n",
       "      <th>2</th>\n",
       "      <td>123fd35</td>\n",
       "      <td>09u924rbwf</td>\n",
       "      <td>2021-04-16</td>\n",
       "      <td>36</td>\n",
       "      <td>1.05</td>\n",
       "      <td>45784937</td>\n",
       "      <td>1200000</td>\n",
       "      <td>1.271804e+06</td>\n",
       "      <td>2024-04-30</td>\n",
       "    </tr>\n",
       "    <tr>\n",
       "      <th>3</th>\n",
       "      <td>123fd36</td>\n",
       "      <td>3240-9rfwb</td>\n",
       "      <td>2021-03-26</td>\n",
       "      <td>12</td>\n",
       "      <td>1.05</td>\n",
       "      <td>1234890</td>\n",
       "      <td>132000</td>\n",
       "      <td>1.029075e+05</td>\n",
       "      <td>2022-03-31</td>\n",
       "    </tr>\n",
       "  </tbody>\n",
       "</table>\n",
       "</div>"
      ],
      "text/plain": [
       "  Borrower_id        loan_id Date_of_release  Term  InterestRate  LoanAmount  \\\n",
       "0     123fd35  32u09wekjbfje      2021-01-27    12          1.05     1209484   \n",
       "1     123fd36    9190i0-nbfb      2021-02-01    24          1.05    12394031   \n",
       "2     123fd35     09u924rbwf      2021-04-16    36          1.05    45784937   \n",
       "3     123fd36     3240-9rfwb      2021-03-26    12          1.05     1234890   \n",
       "\n",
       "   Downpayment  payment_frequency maturity_date  \n",
       "0       124993       1.007903e+05    2022-01-31  \n",
       "1      1000000       5.164180e+05           NaT  \n",
       "2      1200000       1.271804e+06    2024-04-30  \n",
       "3       132000       1.029075e+05    2022-03-31  "
      ]
     },
     "execution_count": 103,
     "metadata": {},
     "output_type": "execute_result"
    }
   ],
   "source": [
    "loan_payment = pd.read_csv(\"data/Loan_Data - Sheet1.csv\")\n",
    "\n",
    "# rename column names for consistency across tables and reflect output result\n",
    "loan_payment.rename(columns={\"Payment_frequency\": \"payment_frequency\", \"Maturity_date\": \"maturity_date\"}, inplace=True)\n",
    "\n",
    "# convert datetime fields to datetime before creating loan table schema\n",
    "loan_payment.Date_of_release = pd.to_datetime(loan_payment.Date_of_release)\n",
    "loan_payment.maturity_date = pd.to_datetime(loan_payment.maturity_date, errors='coerce')\n",
    "loan_payment.head()"
   ]
  },
  {
   "cell_type": "code",
   "execution_count": null,
   "id": "2c96998a",
   "metadata": {},
   "outputs": [],
   "source": []
  },
  {
   "cell_type": "markdown",
   "id": "49bf0813",
   "metadata": {},
   "source": [
    "#### Borrower table"
   ]
  },
  {
   "cell_type": "code",
   "execution_count": 83,
   "id": "24b4be0c",
   "metadata": {},
   "outputs": [
    {
     "data": {
      "text/html": [
       "<div>\n",
       "<style scoped>\n",
       "    .dataframe tbody tr th:only-of-type {\n",
       "        vertical-align: middle;\n",
       "    }\n",
       "\n",
       "    .dataframe tbody tr th {\n",
       "        vertical-align: top;\n",
       "    }\n",
       "\n",
       "    .dataframe thead th {\n",
       "        text-align: right;\n",
       "    }\n",
       "</style>\n",
       "<table border=\"1\" class=\"dataframe\">\n",
       "  <thead>\n",
       "    <tr style=\"text-align: right;\">\n",
       "      <th></th>\n",
       "      <th>Borrower_id</th>\n",
       "      <th>State</th>\n",
       "      <th>city</th>\n",
       "      <th>zip code</th>\n",
       "      <th>borrower_credit_score</th>\n",
       "    </tr>\n",
       "  </thead>\n",
       "  <tbody>\n",
       "    <tr>\n",
       "      <th>0</th>\n",
       "      <td>123fd35</td>\n",
       "      <td>dfgc</td>\n",
       "      <td>12olki</td>\n",
       "      <td>19473</td>\n",
       "      <td>4</td>\n",
       "    </tr>\n",
       "    <tr>\n",
       "      <th>1</th>\n",
       "      <td>123fd36</td>\n",
       "      <td>rtgio</td>\n",
       "      <td>89hfg</td>\n",
       "      <td>923475</td>\n",
       "      <td>a</td>\n",
       "    </tr>\n",
       "  </tbody>\n",
       "</table>\n",
       "</div>"
      ],
      "text/plain": [
       "  Borrower_id  State    city  zip code borrower_credit_score\n",
       "0     123fd35   dfgc  12olki     19473                     4\n",
       "1     123fd36  rtgio   89hfg    923475                     a"
      ]
     },
     "execution_count": 83,
     "metadata": {},
     "output_type": "execute_result"
    }
   ],
   "source": [
    "borrower_data = pd.read_csv(\"data/Borrower_Data - Sheet1.csv\")\n",
    "\n",
    "# rename borrower_id for consistency across tables\n",
    "borrower_data.rename(columns={\"Borrower_Id\": \"Borrower_id\", \"City\": \"city\"}, inplace=True)\n",
    "borrower_data.head()"
   ]
  },
  {
   "cell_type": "markdown",
   "id": "285019d1",
   "metadata": {},
   "source": [
    "#### loan_payment (repayment) table"
   ]
  },
  {
   "cell_type": "code",
   "execution_count": 71,
   "id": "ba1aab6b",
   "metadata": {},
   "outputs": [
    {
     "data": {
      "text/html": [
       "<div>\n",
       "<style scoped>\n",
       "    .dataframe tbody tr th:only-of-type {\n",
       "        vertical-align: middle;\n",
       "    }\n",
       "\n",
       "    .dataframe tbody tr th {\n",
       "        vertical-align: top;\n",
       "    }\n",
       "\n",
       "    .dataframe thead th {\n",
       "        text-align: right;\n",
       "    }\n",
       "</style>\n",
       "<table border=\"1\" class=\"dataframe\">\n",
       "  <thead>\n",
       "    <tr style=\"text-align: right;\">\n",
       "      <th></th>\n",
       "      <th>loan_id</th>\n",
       "      <th>payment_id</th>\n",
       "      <th>Date_paid</th>\n",
       "      <th>Amount_paid</th>\n",
       "    </tr>\n",
       "  </thead>\n",
       "  <tbody>\n",
       "    <tr>\n",
       "      <th>0</th>\n",
       "      <td>32u09wekjbfje</td>\n",
       "      <td>3434r409kmPAID123456</td>\n",
       "      <td>2021-03-31</td>\n",
       "      <td>100790.3333</td>\n",
       "    </tr>\n",
       "    <tr>\n",
       "      <th>1</th>\n",
       "      <td>32u09wekjbfje</td>\n",
       "      <td>3434r409kmPAID123457</td>\n",
       "      <td>2021-03-31</td>\n",
       "      <td>100790.3333</td>\n",
       "    </tr>\n",
       "    <tr>\n",
       "      <th>2</th>\n",
       "      <td>32u09wekjbfje</td>\n",
       "      <td>3434r409kmPAID123458</td>\n",
       "      <td>2021-04-27</td>\n",
       "      <td>100790.3333</td>\n",
       "    </tr>\n",
       "    <tr>\n",
       "      <th>3</th>\n",
       "      <td>32u09wekjbfje</td>\n",
       "      <td>3434r409kmPAID123459</td>\n",
       "      <td>2021-05-27</td>\n",
       "      <td>100790.3333</td>\n",
       "    </tr>\n",
       "    <tr>\n",
       "      <th>4</th>\n",
       "      <td>32u09wekjbfje</td>\n",
       "      <td>3434r409kmPAID123460</td>\n",
       "      <td>2021-06-27</td>\n",
       "      <td>100790.3333</td>\n",
       "    </tr>\n",
       "  </tbody>\n",
       "</table>\n",
       "</div>"
      ],
      "text/plain": [
       "         loan_id            payment_id  Date_paid  Amount_paid\n",
       "0  32u09wekjbfje  3434r409kmPAID123456 2021-03-31  100790.3333\n",
       "1  32u09wekjbfje  3434r409kmPAID123457 2021-03-31  100790.3333\n",
       "2  32u09wekjbfje  3434r409kmPAID123458 2021-04-27  100790.3333\n",
       "3  32u09wekjbfje  3434r409kmPAID123459 2021-05-27  100790.3333\n",
       "4  32u09wekjbfje  3434r409kmPAID123460 2021-06-27  100790.3333"
      ]
     },
     "execution_count": 71,
     "metadata": {},
     "output_type": "execute_result"
    }
   ],
   "source": [
    "# correct column names\n",
    "repayment_data = pd.read_csv(\"data/Repayment_Data - Sheet1.csv\")\n",
    "\n",
    "# rename mis-placed column names\n",
    "repayment_data.rename(columns={\"Amount_paid\": \"Date_paid\", \n",
    "                               \"Date_paid\": \"Amount_paid\", \n",
    "                               \"loan_id(fk)\": \"loan_id\",\n",
    "                                \"payment_id(pk)\": \"payment_id\"}, inplace=True)\n",
    "\n",
    "# convert to datetime before creating repayment schema\n",
    "repayment_data.Date_paid = pd.to_datetime(repayment_data.Date_paid)\n",
    "repayment_data.head()"
   ]
  },
  {
   "cell_type": "markdown",
   "id": "e83182c7",
   "metadata": {},
   "source": [
    "#### Payment_schedule table"
   ]
  },
  {
   "cell_type": "code",
   "execution_count": 48,
   "id": "e27e6c8f",
   "metadata": {},
   "outputs": [
    {
     "data": {
      "text/html": [
       "<div>\n",
       "<style scoped>\n",
       "    .dataframe tbody tr th:only-of-type {\n",
       "        vertical-align: middle;\n",
       "    }\n",
       "\n",
       "    .dataframe tbody tr th {\n",
       "        vertical-align: top;\n",
       "    }\n",
       "\n",
       "    .dataframe thead th {\n",
       "        text-align: right;\n",
       "    }\n",
       "</style>\n",
       "<table border=\"1\" class=\"dataframe\">\n",
       "  <thead>\n",
       "    <tr style=\"text-align: right;\">\n",
       "      <th></th>\n",
       "      <th>loan_id</th>\n",
       "      <th>schedule_id</th>\n",
       "      <th>Expected_payment_date</th>\n",
       "      <th>Expected_payment_amount</th>\n",
       "    </tr>\n",
       "  </thead>\n",
       "  <tbody>\n",
       "    <tr>\n",
       "      <th>0</th>\n",
       "      <td>32u09wekjbfje</td>\n",
       "      <td>3434r409km123456</td>\n",
       "      <td>2021-02-27</td>\n",
       "      <td>100790.3333</td>\n",
       "    </tr>\n",
       "    <tr>\n",
       "      <th>1</th>\n",
       "      <td>32u09wekjbfje</td>\n",
       "      <td>3434r409km123457</td>\n",
       "      <td>2021-03-27</td>\n",
       "      <td>100790.3333</td>\n",
       "    </tr>\n",
       "    <tr>\n",
       "      <th>2</th>\n",
       "      <td>32u09wekjbfje</td>\n",
       "      <td>3434r409km123458</td>\n",
       "      <td>2021-04-27</td>\n",
       "      <td>100790.3333</td>\n",
       "    </tr>\n",
       "    <tr>\n",
       "      <th>3</th>\n",
       "      <td>32u09wekjbfje</td>\n",
       "      <td>3434r409km123459</td>\n",
       "      <td>2021-05-27</td>\n",
       "      <td>100790.3333</td>\n",
       "    </tr>\n",
       "    <tr>\n",
       "      <th>4</th>\n",
       "      <td>32u09wekjbfje</td>\n",
       "      <td>3434r409km123460</td>\n",
       "      <td>2021-06-27</td>\n",
       "      <td>100790.3333</td>\n",
       "    </tr>\n",
       "  </tbody>\n",
       "</table>\n",
       "</div>"
      ],
      "text/plain": [
       "         loan_id       schedule_id Expected_payment_date  \\\n",
       "0  32u09wekjbfje  3434r409km123456            2021-02-27   \n",
       "1  32u09wekjbfje  3434r409km123457            2021-03-27   \n",
       "2  32u09wekjbfje  3434r409km123458            2021-04-27   \n",
       "3  32u09wekjbfje  3434r409km123459            2021-05-27   \n",
       "4  32u09wekjbfje  3434r409km123460            2021-06-27   \n",
       "\n",
       "   Expected_payment_amount  \n",
       "0              100790.3333  \n",
       "1              100790.3333  \n",
       "2              100790.3333  \n",
       "3              100790.3333  \n",
       "4              100790.3333  "
      ]
     },
     "execution_count": 48,
     "metadata": {},
     "output_type": "execute_result"
    }
   ],
   "source": [
    "payment_schedule = pd.read_csv(\"data/Schedule_Data.xlsx - Sheet1.csv\")\n",
    "\n",
    "# convert to datetime before creating payment schedule schema\n",
    "payment_schedule.Expected_payment_date = pd.to_datetime(payment_schedule.Expected_payment_date)\n",
    "payment_schedule.head()"
   ]
  },
  {
   "cell_type": "markdown",
   "id": "025e7c58",
   "metadata": {},
   "source": [
    "  ## Transformation"
   ]
  },
  {
   "cell_type": "code",
   "execution_count": 104,
   "id": "1b462ce8",
   "metadata": {},
   "outputs": [],
   "source": [
    "# merge loan and borrower table\n",
    "Transformation_1 = loan_payment.merge(borrower_data, on='Borrower_id')"
   ]
  },
  {
   "cell_type": "code",
   "execution_count": 61,
   "id": "77e5b9e4",
   "metadata": {},
   "outputs": [],
   "source": [
    "Transformation_1\n",
    "None"
   ]
  },
  {
   "cell_type": "code",
   "execution_count": 105,
   "id": "e6206027",
   "metadata": {},
   "outputs": [],
   "source": [
    "Transformation_2 = Transformation_1.merge(payment_schedule, on='loan_id', how='left')"
   ]
  },
  {
   "cell_type": "code",
   "execution_count": 75,
   "id": "0f7c8a2c",
   "metadata": {},
   "outputs": [],
   "source": [
    "Transformation_2.head()\n",
    "None"
   ]
  },
  {
   "cell_type": "code",
   "execution_count": 106,
   "id": "cdf98a39",
   "metadata": {},
   "outputs": [],
   "source": [
    "Final_transformation = Transformation_2.merge(repayment_data, on='loan_id', how='left')\n",
    "Final_transformation.head()\n",
    "None"
   ]
  },
  {
   "cell_type": "markdown",
   "id": "709cb8fc",
   "metadata": {},
   "source": [
    "## Analyze the Data"
   ]
  },
  {
   "cell_type": "code",
   "execution_count": 107,
   "id": "8673acae",
   "metadata": {},
   "outputs": [],
   "source": [
    "# create the current_days_past_due column\n",
    "Final_transformation['current_days_past_due'] = (datetime.now() - Final_transformation['Expected_payment_date']).dt.days"
   ]
  },
  {
   "cell_type": "code",
   "execution_count": 108,
   "id": "858652d4",
   "metadata": {},
   "outputs": [],
   "source": [
    "# apply groupby to filter out distinctive values\n",
    "grouped = Final_transformation.groupby(['city', 'zip code', 'payment_frequency', 'maturity_date'])"
   ]
  },
  {
   "cell_type": "code",
   "execution_count": 112,
   "id": "ac2a911c",
   "metadata": {},
   "outputs": [],
   "source": [
    "# Calculate last_due_date, last_repayment_date and amount_at_risk and aggregate to grouped data\n",
    "result = grouped.agg(\n",
    "    last_due_date=pd.NamedAgg(column='Expected_payment_date', aggfunc='max'),\n",
    "    last_repayment_date=pd.NamedAgg(column='Date_paid', aggfunc='max'),\n",
    "    amount_at_risk=pd.NamedAgg(column='Expected_payment_amount', aggfunc=lambda x: x[Final_transformation['Expected_payment_date'] <= datetime.now()].sum())\n",
    ")\n",
    "result.reset_index(inplace=True)"
   ]
  },
  {
   "cell_type": "markdown",
   "id": "2f07cc05",
   "metadata": {},
   "source": [
    "### Export Analyzed Result in Excel format"
   ]
  },
  {
   "cell_type": "code",
   "execution_count": 116,
   "id": "2254f812",
   "metadata": {},
   "outputs": [
    {
     "data": {
      "text/html": [
       "<div>\n",
       "<style scoped>\n",
       "    .dataframe tbody tr th:only-of-type {\n",
       "        vertical-align: middle;\n",
       "    }\n",
       "\n",
       "    .dataframe tbody tr th {\n",
       "        vertical-align: top;\n",
       "    }\n",
       "\n",
       "    .dataframe thead th {\n",
       "        text-align: right;\n",
       "    }\n",
       "</style>\n",
       "<table border=\"1\" class=\"dataframe\">\n",
       "  <thead>\n",
       "    <tr style=\"text-align: right;\">\n",
       "      <th></th>\n",
       "      <th>city</th>\n",
       "      <th>zip code</th>\n",
       "      <th>payment_frequency</th>\n",
       "      <th>maturity_date</th>\n",
       "      <th>last_due_date</th>\n",
       "      <th>last_repayment_date</th>\n",
       "      <th>amount_at_risk</th>\n",
       "    </tr>\n",
       "  </thead>\n",
       "  <tbody>\n",
       "    <tr>\n",
       "      <th>0</th>\n",
       "      <td>12olki</td>\n",
       "      <td>19473</td>\n",
       "      <td>1.007903e+05</td>\n",
       "      <td>2022-01-31</td>\n",
       "      <td>2022-01-27</td>\n",
       "      <td>2022-01-27</td>\n",
       "      <td>1.451381e+07</td>\n",
       "    </tr>\n",
       "    <tr>\n",
       "      <th>1</th>\n",
       "      <td>12olki</td>\n",
       "      <td>19473</td>\n",
       "      <td>1.271804e+06</td>\n",
       "      <td>2024-04-30</td>\n",
       "      <td>2024-04-16</td>\n",
       "      <td>2024-04-16</td>\n",
       "      <td>1.373548e+09</td>\n",
       "    </tr>\n",
       "    <tr>\n",
       "      <th>2</th>\n",
       "      <td>89hfg</td>\n",
       "      <td>923475</td>\n",
       "      <td>1.029075e+05</td>\n",
       "      <td>2022-03-31</td>\n",
       "      <td>2022-03-26</td>\n",
       "      <td>2022-03-26</td>\n",
       "      <td>1.481868e+07</td>\n",
       "    </tr>\n",
       "  </tbody>\n",
       "</table>\n",
       "</div>"
      ],
      "text/plain": [
       "     city  zip code  payment_frequency maturity_date last_due_date  \\\n",
       "0  12olki     19473       1.007903e+05    2022-01-31    2022-01-27   \n",
       "1  12olki     19473       1.271804e+06    2024-04-30    2024-04-16   \n",
       "2   89hfg    923475       1.029075e+05    2022-03-31    2022-03-26   \n",
       "\n",
       "  last_repayment_date  amount_at_risk  \n",
       "0          2022-01-27    1.451381e+07  \n",
       "1          2024-04-16    1.373548e+09  \n",
       "2          2022-03-26    1.481868e+07  "
      ]
     },
     "execution_count": 116,
     "metadata": {},
     "output_type": "execute_result"
    }
   ],
   "source": [
    "result.head() "
   ]
  },
  {
   "cell_type": "code",
   "execution_count": 118,
   "id": "9b4ab1b4",
   "metadata": {},
   "outputs": [],
   "source": [
    "result.to_excel('output_result.xls', index=False)"
   ]
  },
  {
   "cell_type": "code",
   "execution_count": 117,
   "id": "d7579b18",
   "metadata": {},
   "outputs": [],
   "source": [
    "result.to_csv('output_result.csv', index=False)"
   ]
  }
 ],
 "metadata": {
  "kernelspec": {
   "display_name": "Python 3 (ipykernel)",
   "language": "python",
   "name": "python3"
  },
  "language_info": {
   "codemirror_mode": {
    "name": "ipython",
    "version": 3
   },
   "file_extension": ".py",
   "mimetype": "text/x-python",
   "name": "python",
   "nbconvert_exporter": "python",
   "pygments_lexer": "ipython3",
   "version": "3.7.0"
  }
 },
 "nbformat": 4,
 "nbformat_minor": 5
}
